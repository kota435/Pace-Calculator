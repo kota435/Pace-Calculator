{
  "nbformat": 4,
  "nbformat_minor": 0,
  "metadata": {
    "colab": {
      "name": "pace",
      "provenance": [],
      "collapsed_sections": [],
      "authorship_tag": "ABX9TyPq4kh1YaSAzgQoTPYivqti",
      "include_colab_link": true
    },
    "kernelspec": {
      "name": "python3",
      "display_name": "Python 3"
    },
    "language_info": {
      "name": "python"
    }
  },
  "cells": [
    {
      "cell_type": "markdown",
      "metadata": {
        "id": "view-in-github",
        "colab_type": "text"
      },
      "source": [
        "<a href=\"https://colab.research.google.com/github/kota435/one/blob/master/pace.ipynb\" target=\"_parent\"><img src=\"https://colab.research.google.com/assets/colab-badge.svg\" alt=\"Open In Colab\"/></a>"
      ]
    },
    {
      "cell_type": "code",
      "metadata": {
        "colab": {
          "base_uri": "https://localhost:8080/"
        },
        "id": "SuodpInOPara",
        "outputId": "c8954121-abd2-44cf-823e-8ebf8a58afc9"
      },
      "source": [
        "\n",
        "input_distance=input(\"距離を入力してください\")\n",
        "input_min=input(\"何分？\")\n",
        "input_sec=input(\"何秒？\")\n",
        "\n",
        "min_sec=int(input_min)*60+int(input_sec)\n",
        "warukazu=int(input_distance)/100\n",
        "handred_1=min_sec/warukazu #100mのタイム\n",
        "\t\n",
        "distance_list=list((range(100,int(input_distance)+100,100))) #100mごとに要素を作成\n",
        "time_list=list(range(int(handred_1),int(handred_1*warukazu)+int(handred_1),int(handred_1))) #100mごとのタイムの要素作成\n",
        "\t\n",
        "def pacekeisan():\n",
        "\t for output_distance,output_time in zip(distance_list,time_list): #距離出力(100mごと)\n",
        "\t\n",
        "\t   if output_time<60: #秒、分変換\n",
        "\t     output_result=str(output_time)+'秒'\n",
        "\t     print(str(output_distance)+'m'+output_result)\n",
        "\t\t\n",
        "\n",
        "\t   else:\n",
        "\t     fun,byo=divmod(output_time,60)\n",
        "\t     fun=int(fun)\n",
        "\t     byo=int(byo)\n",
        "\t     output_result=str(fun)+'分'+str(byo)+'秒'\n",
        "\t     print(str(output_distance)+'m'+output_result)\n",
        "\n",
        "\n",
        "if int(input_distance)<100:\n",
        "\t  print('100以上の値を入力してください')\n",
        "else:\n",
        "\t  pacekeisan()"
      ],
      "execution_count": 2,
      "outputs": [
        {
          "output_type": "stream",
          "name": "stdout",
          "text": [
            "距離を入力してください1500\n",
            "何分？4\n",
            "何秒？30\n",
            "100m18秒\n",
            "200m36秒\n",
            "300m54秒\n",
            "400m1分12秒\n",
            "500m1分30秒\n",
            "600m1分48秒\n",
            "700m2分6秒\n",
            "800m2分24秒\n",
            "900m2分42秒\n",
            "1000m3分0秒\n",
            "1100m3分18秒\n",
            "1200m3分36秒\n",
            "1300m3分54秒\n",
            "1400m4分12秒\n",
            "1500m4分30秒\n"
          ]
        }
      ]
    }
  ]
}